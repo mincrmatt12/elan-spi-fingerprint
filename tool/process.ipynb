{
 "cells": [
  {
   "cell_type": "code",
   "execution_count": 65,
   "metadata": {},
   "outputs": [],
   "source": [
    "import struct\n",
    "import sys\n",
    "import numpy as np\n",
    "\n",
    "def parse(f):\n",
    "    data = f.read()\n",
    "    image_data = np.zeros((96*96,))\n",
    "    for i in range(96*96):\n",
    "        image_data[i] = struct.unpack_from(\"<H\", data, i*2)[0]\n",
    "    return np.reshape(image_data, (96, 96), 'C') # use [y][x]\n",
    "    \n",
    "def stat(image_data):\n",
    "    # image stats\n",
    "\n",
    "    img_min = np.min(image_data)\n",
    "    img_max = np.max(image_data)\n",
    "\n",
    "    print(\"min\", img_min, \"max\", img_max)\n",
    "\n",
    "    # stddev\n",
    "\n",
    "    print(\"std\", np.std(image_data))\n",
    "\n",
    "    avg = np.zeros((96,)) \n",
    "    for i in range(96):\n",
    "        avg[i] = np.std(image_data[i, :])\n",
    "\n",
    "    print(avg.mean())"
   ]
  },
  {
   "cell_type": "code",
   "execution_count": 66,
   "metadata": {},
   "outputs": [],
   "source": [
    "empty = [\"img_e0\", \"img_e1\", \"img_e2\"]\n",
    "fpimg = [\"img_fp0\", \"img_fp1\", \"img_fp2\"]\n",
    "\n",
    "empty_data = []\n",
    "for i in empty:\n",
    "    with open(i, 'rb') as f:\n",
    "        empty_data.append(parse(f))\n",
    "\n",
    "fpimg_data = []\n",
    "for i in fpimg:\n",
    "    with open(i, 'rb') as f:\n",
    "        fpimg_data.append(parse(f))"
   ]
  },
  {
   "cell_type": "code",
   "execution_count": 67,
   "metadata": {},
   "outputs": [],
   "source": [
    "from matplotlib import pyplot as plt \n",
    "%matplotlib widget"
   ]
  },
  {
   "cell_type": "code",
   "execution_count": 68,
   "metadata": {},
   "outputs": [
    {
     "data": {
      "application/vnd.jupyter.widget-view+json": {
       "model_id": "597124ea69ae41068537f48e394b8793",
       "version_major": 2,
       "version_minor": 0
      },
      "text/plain": [
       "Canvas(toolbar=Toolbar(toolitems=[('Home', 'Reset original view', 'home', 'home'), ('Back', 'Back to previous …"
      ]
     },
     "metadata": {},
     "output_type": "display_data"
    },
    {
     "data": {
      "application/vnd.jupyter.widget-view+json": {
       "model_id": "49571f14029c4d37acd6a14d08ce9b73",
       "version_major": 2,
       "version_minor": 0
      },
      "text/plain": [
       "Canvas(toolbar=Toolbar(toolitems=[('Home', 'Reset original view', 'home', 'home'), ('Back', 'Back to previous …"
      ]
     },
     "metadata": {},
     "output_type": "display_data"
    },
    {
     "data": {
      "application/vnd.jupyter.widget-view+json": {
       "model_id": "dda41905a96e4db6aa030da93f659cc4",
       "version_major": 2,
       "version_minor": 0
      },
      "text/plain": [
       "Canvas(toolbar=Toolbar(toolitems=[('Home', 'Reset original view', 'home', 'home'), ('Back', 'Back to previous …"
      ]
     },
     "metadata": {},
     "output_type": "display_data"
    }
   ],
   "source": [
    "for i in range(3):\n",
    "    plt.figure(i+1)\n",
    "    y = plt.hist(empty_data[i])"
   ]
  },
  {
   "cell_type": "code",
   "execution_count": 69,
   "metadata": {},
   "outputs": [
    {
     "data": {
      "application/vnd.jupyter.widget-view+json": {
       "model_id": "e82522186d1544f0b2fcceaccf38b6ee",
       "version_major": 2,
       "version_minor": 0
      },
      "text/plain": [
       "Canvas(toolbar=Toolbar(toolitems=[('Home', 'Reset original view', 'home', 'home'), ('Back', 'Back to previous …"
      ]
     },
     "metadata": {},
     "output_type": "display_data"
    },
    {
     "data": {
      "application/vnd.jupyter.widget-view+json": {
       "model_id": "8e91ea5b7f644469a2ff68e7d09f46df",
       "version_major": 2,
       "version_minor": 0
      },
      "text/plain": [
       "Canvas(toolbar=Toolbar(toolitems=[('Home', 'Reset original view', 'home', 'home'), ('Back', 'Back to previous …"
      ]
     },
     "metadata": {},
     "output_type": "display_data"
    },
    {
     "data": {
      "application/vnd.jupyter.widget-view+json": {
       "model_id": "d6821b8176d340339e3ab5ae5be952bc",
       "version_major": 2,
       "version_minor": 0
      },
      "text/plain": [
       "Canvas(toolbar=Toolbar(toolitems=[('Home', 'Reset original view', 'home', 'home'), ('Back', 'Back to previous …"
      ]
     },
     "metadata": {},
     "output_type": "display_data"
    }
   ],
   "source": [
    "for i in range(3):\n",
    "    plt.figure(i+4)\n",
    "    plt.hist(fpimg_data[i])"
   ]
  },
  {
   "cell_type": "code",
   "execution_count": 70,
   "metadata": {},
   "outputs": [],
   "source": [
    "# try to do the average thing\n",
    "\n",
    "def empty_check(img):\n",
    "    middle = img.mean()\n",
    "    \n",
    "    low_half = img[img < middle]\n",
    "    high_half = img[img > middle]\n",
    "    \n",
    "    #print(middle, middle-np.max(low_half), np.min(high_half)-middle)\n",
    "    distavg = np.mean([middle-np.max(low_half), np.min(high_half)-middle])\n",
    "    print(distavg)\n",
    "    \n",
    "    stddev = np.std(img)\n",
    "    print(stddev)\n",
    "    \n",
    "    # generally, the standard deviation seems to be lower for real images\n",
    "    is_real = 0\n",
    "    is_empty = 0\n",
    "    \n",
    "    if stddev < 850:\n",
    "        is_real += 1\n",
    "    if stddev > 2200:\n",
    "        is_empty += 1\n",
    "        \n",
    "    # generally, the distavg is very low for real images\n",
    "    if distavg < 200:\n",
    "        is_real += 1\n",
    "    if distavg > 1100:\n",
    "        is_empty += 1\n",
    "    \n",
    "    print(\"real\", is_real, \"empty\", is_empty)\n",
    "    \n",
    "    if is_real > is_empty:\n",
    "        print(\"real\")\n",
    "    elif is_empty > is_real:\n",
    "        print(\"empty\")\n",
    "    else:\n",
    "        print(\"undecided\")\n",
    "    \n",
    "    "
   ]
  },
  {
   "cell_type": "code",
   "execution_count": 71,
   "metadata": {},
   "outputs": [
    {
     "name": "stdout",
     "output_type": "stream",
     "text": [
      "e 0\n",
      "2295.0\n",
      "2900.4447351402846\n",
      "real 0 empty 2\n",
      "empty\n",
      "e 1\n",
      "2258.0\n",
      "2859.711744869388\n",
      "real 0 empty 2\n",
      "empty\n",
      "e 2\n",
      "2167.0\n",
      "2891.5263365594587\n",
      "real 0 empty 2\n",
      "empty\n"
     ]
    }
   ],
   "source": [
    "for i in range(3):\n",
    "    print(\"e\", i)\n",
    "    empty_check(empty_data[i])"
   ]
  },
  {
   "cell_type": "code",
   "execution_count": 72,
   "metadata": {},
   "outputs": [
    {
     "name": "stdout",
     "output_type": "stream",
     "text": [
      "f 0\n",
      "0.5\n",
      "616.2800133202728\n",
      "real 2 empty 0\n",
      "real\n",
      "f 1\n",
      "0.5\n",
      "531.5317568895721\n",
      "real 2 empty 0\n",
      "real\n",
      "f 2\n",
      "0.5\n",
      "592.845492229728\n",
      "real 2 empty 0\n",
      "real\n"
     ]
    }
   ],
   "source": [
    "for i in range(3):\n",
    "    print(\"f\", i)\n",
    "    empty_check(fpimg_data[i])"
   ]
  },
  {
   "cell_type": "code",
   "execution_count": 73,
   "metadata": {},
   "outputs": [],
   "source": [
    "with open(\"/home/matthew/Downloads/img\", \"rb\") as f:\n",
    "    fpimg4 = parse(f)"
   ]
  },
  {
   "cell_type": "code",
   "execution_count": 74,
   "metadata": {},
   "outputs": [
    {
     "name": "stdout",
     "output_type": "stream",
     "text": [
      "0.5\n",
      "696.8461397578617\n",
      "real 2 empty 0\n",
      "real\n"
     ]
    }
   ],
   "source": [
    "empty_check(fpimg4)"
   ]
  },
  {
   "cell_type": "code",
   "execution_count": 100,
   "metadata": {},
   "outputs": [
    {
     "data": {
      "application/vnd.jupyter.widget-view+json": {
       "model_id": "f89df38dcece48f5bda9a2f91c2c1651",
       "version_major": 2,
       "version_minor": 0
      },
      "text/plain": [
       "Canvas(toolbar=Toolbar(toolitems=[('Home', 'Reset original view', 'home', 'home'), ('Back', 'Back to previous …"
      ]
     },
     "metadata": {},
     "output_type": "display_data"
    }
   ],
   "source": [
    "plt.close(12)\n",
    "g = plt.figure(12)\n",
    "plt.imshow(fpimg_data[0])\n",
    "plt.show()"
   ]
  },
  {
   "cell_type": "code",
   "execution_count": 112,
   "metadata": {},
   "outputs": [],
   "source": [
    "# check to see what my histogram crap does\n",
    "\n",
    "def x(data):\n",
    "    sorted_pixels = np.unique(data)\n",
    "    count = len(sorted_pixels)\n",
    "    lvl1 = sorted_pixels[int(count * 0.08)]\n",
    "    lvl2 = sorted_pixels[int(count * 0.92)]\n",
    "    \n",
    "    fig, (ax1, ax2) = plt.subplots(1, 2)\n",
    "    \n",
    "    real_img = np.zeros_like(data)\n",
    "    for y in range(96):\n",
    "        for x in range(96):\n",
    "            value = data[y, x]\n",
    "            if value < lvl1:\n",
    "                continue\n",
    "            elif lvl2 < value:\n",
    "                real_img[y, x] = 255\n",
    "            else:\n",
    "                real_img[y, x] = (256 / (lvl2 - lvl1)) * (value - lvl1)\n",
    "    \n",
    "    ax1.imshow(real_img, cmap=plt.cm.binary)\n",
    "    ax2.hist(real_img)"
   ]
  },
  {
   "cell_type": "code",
   "execution_count": 116,
   "metadata": {},
   "outputs": [
    {
     "data": {
      "application/vnd.jupyter.widget-view+json": {
       "model_id": "53558c9d558d4698b80e8f0d2910b22d",
       "version_major": 2,
       "version_minor": 0
      },
      "text/plain": [
       "Canvas(toolbar=Toolbar(toolitems=[('Home', 'Reset original view', 'home', 'home'), ('Back', 'Back to previous …"
      ]
     },
     "metadata": {},
     "output_type": "display_data"
    }
   ],
   "source": [
    "x(empty_data[2])"
   ]
  }
 ],
 "metadata": {
  "kernelspec": {
   "display_name": "Python 3",
   "language": "python",
   "name": "python3"
  },
  "language_info": {
   "codemirror_mode": {
    "name": "ipython",
    "version": 3
   },
   "file_extension": ".py",
   "mimetype": "text/x-python",
   "name": "python",
   "nbconvert_exporter": "python",
   "pygments_lexer": "ipython3",
   "version": "3.6.9"
  }
 },
 "nbformat": 4,
 "nbformat_minor": 4
}
